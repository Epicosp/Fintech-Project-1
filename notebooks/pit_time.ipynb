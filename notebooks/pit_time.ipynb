{
 "cells": [
  {
   "cell_type": "code",
   "execution_count": 4,
   "metadata": {},
   "outputs": [],
   "source": [
    "import requests\n",
    "import pandas as pd\n",
    "import plotly.express as px\n",
    "import matplotlib.pyplot as plt\n",
    "import time\n",
    "import datetime as dt\n",
    "import hvplot.pandas\n",
    "%matplotlib inline"
   ]
  },
  {
   "cell_type": "markdown",
   "metadata": {},
   "source": [
    "## Prepare Data\n",
    "The final data frame data consists of four seperate csv file, concatenated and merged by their keys, ideally this would be done in an SQL db."
   ]
  },
  {
   "cell_type": "code",
   "execution_count": 5,
   "metadata": {},
   "outputs": [
    {
     "data": {
      "text/html": [
       "<div>\n",
       "<style scoped>\n",
       "    .dataframe tbody tr th:only-of-type {\n",
       "        vertical-align: middle;\n",
       "    }\n",
       "\n",
       "    .dataframe tbody tr th {\n",
       "        vertical-align: top;\n",
       "    }\n",
       "\n",
       "    .dataframe thead th {\n",
       "        text-align: right;\n",
       "    }\n",
       "</style>\n",
       "<table border=\"1\" class=\"dataframe\">\n",
       "  <thead>\n",
       "    <tr style=\"text-align: right;\">\n",
       "      <th></th>\n",
       "      <th>raceId</th>\n",
       "      <th>driverId</th>\n",
       "      <th>milliseconds</th>\n",
       "      <th>driverStandingsId</th>\n",
       "      <th>circuitId</th>\n",
       "      <th>position</th>\n",
       "      <th>name</th>\n",
       "    </tr>\n",
       "  </thead>\n",
       "  <tbody>\n",
       "    <tr>\n",
       "      <th>0</th>\n",
       "      <td>841</td>\n",
       "      <td>1</td>\n",
       "      <td>46426</td>\n",
       "      <td>64691</td>\n",
       "      <td>1</td>\n",
       "      <td>2</td>\n",
       "      <td>Albert Park Grand Prix Circuit</td>\n",
       "    </tr>\n",
       "    <tr>\n",
       "      <th>1</th>\n",
       "      <td>841</td>\n",
       "      <td>2</td>\n",
       "      <td>48092</td>\n",
       "      <td>64701</td>\n",
       "      <td>1</td>\n",
       "      <td>12</td>\n",
       "      <td>Albert Park Grand Prix Circuit</td>\n",
       "    </tr>\n",
       "    <tr>\n",
       "      <th>2</th>\n",
       "      <td>841</td>\n",
       "      <td>3</td>\n",
       "      <td>23716</td>\n",
       "      <td>64706</td>\n",
       "      <td>1</td>\n",
       "      <td>17</td>\n",
       "      <td>Albert Park Grand Prix Circuit</td>\n",
       "    </tr>\n",
       "    <tr>\n",
       "      <th>3</th>\n",
       "      <td>841</td>\n",
       "      <td>4</td>\n",
       "      <td>72165</td>\n",
       "      <td>64693</td>\n",
       "      <td>1</td>\n",
       "      <td>4</td>\n",
       "      <td>Albert Park Grand Prix Circuit</td>\n",
       "    </tr>\n",
       "    <tr>\n",
       "      <th>4</th>\n",
       "      <td>841</td>\n",
       "      <td>5</td>\n",
       "      <td>24865</td>\n",
       "      <td>64707</td>\n",
       "      <td>1</td>\n",
       "      <td>18</td>\n",
       "      <td>Albert Park Grand Prix Circuit</td>\n",
       "    </tr>\n",
       "    <tr>\n",
       "      <th>...</th>\n",
       "      <td>...</td>\n",
       "      <td>...</td>\n",
       "      <td>...</td>\n",
       "      <td>...</td>\n",
       "      <td>...</td>\n",
       "      <td>...</td>\n",
       "      <td>...</td>\n",
       "    </tr>\n",
       "    <tr>\n",
       "      <th>4091</th>\n",
       "      <td>1075</td>\n",
       "      <td>844</td>\n",
       "      <td>21038</td>\n",
       "      <td>71272</td>\n",
       "      <td>77</td>\n",
       "      <td>1</td>\n",
       "      <td>Jeddah Corniche Circuit</td>\n",
       "    </tr>\n",
       "    <tr>\n",
       "      <th>4092</th>\n",
       "      <td>1075</td>\n",
       "      <td>846</td>\n",
       "      <td>20383</td>\n",
       "      <td>71286</td>\n",
       "      <td>77</td>\n",
       "      <td>10</td>\n",
       "      <td>Jeddah Corniche Circuit</td>\n",
       "    </tr>\n",
       "    <tr>\n",
       "      <th>4093</th>\n",
       "      <td>1075</td>\n",
       "      <td>847</td>\n",
       "      <td>21415</td>\n",
       "      <td>71275</td>\n",
       "      <td>77</td>\n",
       "      <td>4</td>\n",
       "      <td>Jeddah Corniche Circuit</td>\n",
       "    </tr>\n",
       "    <tr>\n",
       "      <th>4094</th>\n",
       "      <td>1075</td>\n",
       "      <td>848</td>\n",
       "      <td>20683</td>\n",
       "      <td>71284</td>\n",
       "      <td>77</td>\n",
       "      <td>18</td>\n",
       "      <td>Jeddah Corniche Circuit</td>\n",
       "    </tr>\n",
       "    <tr>\n",
       "      <th>4095</th>\n",
       "      <td>1075</td>\n",
       "      <td>855</td>\n",
       "      <td>48837</td>\n",
       "      <td>71281</td>\n",
       "      <td>77</td>\n",
       "      <td>14</td>\n",
       "      <td>Jeddah Corniche Circuit</td>\n",
       "    </tr>\n",
       "  </tbody>\n",
       "</table>\n",
       "<p>4096 rows × 7 columns</p>\n",
       "</div>"
      ],
      "text/plain": [
       "      raceId  driverId  milliseconds  driverStandingsId  circuitId  position  \\\n",
       "0        841         1         46426              64691          1         2   \n",
       "1        841         2         48092              64701          1        12   \n",
       "2        841         3         23716              64706          1        17   \n",
       "3        841         4         72165              64693          1         4   \n",
       "4        841         5         24865              64707          1        18   \n",
       "...      ...       ...           ...                ...        ...       ...   \n",
       "4091    1075       844         21038              71272         77         1   \n",
       "4092    1075       846         20383              71286         77        10   \n",
       "4093    1075       847         21415              71275         77         4   \n",
       "4094    1075       848         20683              71284         77        18   \n",
       "4095    1075       855         48837              71281         77        14   \n",
       "\n",
       "                                name  \n",
       "0     Albert Park Grand Prix Circuit  \n",
       "1     Albert Park Grand Prix Circuit  \n",
       "2     Albert Park Grand Prix Circuit  \n",
       "3     Albert Park Grand Prix Circuit  \n",
       "4     Albert Park Grand Prix Circuit  \n",
       "...                              ...  \n",
       "4091         Jeddah Corniche Circuit  \n",
       "4092         Jeddah Corniche Circuit  \n",
       "4093         Jeddah Corniche Circuit  \n",
       "4094         Jeddah Corniche Circuit  \n",
       "4095         Jeddah Corniche Circuit  \n",
       "\n",
       "[4096 rows x 7 columns]"
      ]
     },
     "execution_count": 5,
     "metadata": {},
     "output_type": "execute_result"
    }
   ],
   "source": [
    "# read circuits, slice for nessecary data\n",
    "circuits = pd.read_csv('f1db_csv/circuits.csv')\n",
    "circuits = circuits[['circuitId', 'name']].set_index('circuitId')\n",
    "\n",
    "# read standings data, groupby unique identifiers for concat (sum wins for extra analysis)\n",
    "standings = pd.read_csv('f1db_csv/driver_standings.csv')\n",
    "standings = standings.groupby(['raceId', 'driverId']).sum('wins')\n",
    "\n",
    "# read pit_stops, groupby keys to get unique pit times for each driver during each race, sum to get total pit time.\n",
    "pit_stops = pd.read_csv('f1db_csv/pit_stops.csv')\n",
    "pit_stops = pit_stops.groupby(['raceId', 'driverId']).sum().drop(columns=['stop', 'lap'])\n",
    "\n",
    "# read races csv, for some reason this data contains columns with lots of null data and the column names are offset, \n",
    "# so the original csv was edited in excel to remove these columns.\n",
    "races = pd.read_csv('f1db_csv/races_edited.csv').set_index('raceId')\n",
    "\n",
    "# concat pit_stops and standings by index, ensuring that raceId and driverId are the same\n",
    "data = pd.concat([pit_stops, standings], join='inner', axis='columns')\n",
    "\n",
    "# filter by total sum of pit time <500000 ms, removing outliers and excessivly long pit times.\n",
    "data = data[data['milliseconds']<500000]\n",
    "\n",
    "# remove multi indexing\n",
    "data = data.reset_index()\n",
    "\n",
    "# left merge data with races by raceId, and reset_index, slice to use only nessecary data.\n",
    "data = data.merge(races, on='raceId' , how='left').reset_index()\n",
    "data = data[['raceId', 'driverId', 'milliseconds', 'driverStandingsId', 'circuitId', 'position']]\n",
    "\n",
    "# left merge data with circuits, by circuitId\n",
    "data = data.merge(circuits, on='circuitId', how='left')\n",
    "data"
   ]
  },
  {
   "cell_type": "markdown",
   "metadata": {},
   "source": [
    "## API Call functions"
   ]
  },
  {
   "cell_type": "code",
   "execution_count": 12,
   "metadata": {},
   "outputs": [],
   "source": [
    "def ergast_get_standings(year, race):\n",
    "    '''call ergast api to get driver standings for a giver year and race number'''\n",
    "    url = f'http://ergast.com/api/f1/{year}/{race}/driverStandings.json'\n",
    "    data = requests.get(url).json()\n",
    "\n",
    "    standings = {}\n",
    "\n",
    "    # parse json object and retrieve standings\n",
    "    for x, driver in enumerate(data['MRData']['StandingsTable']['StandingsLists'][0]['DriverStandings']):\n",
    "        position = driver['position']\n",
    "        driver_id = driver['Driver']['driverId']\n",
    "        standings[driver_id] = position\n",
    "    \n",
    "    # conver to df, rename the column and change data type\n",
    "    standings = pd.DataFrame.from_dict(standings, orient='index').rename(columns={0:'standing'}).apply(pd.to_numeric)\n",
    "    \n",
    "    return standings\n",
    "\n",
    "def ergast_get_pitstops(year, race):\n",
    "    '''\n",
    "    call ergast api to get pitstops for a given year and race number.\n",
    "    returns a pandas dataframe containing pitstops for each race of the event for each driver.\n",
    "    '''\n",
    "\n",
    "    # call API and get json object response\n",
    "    url = f'http://ergast.com/api/f1/{year}/{race}/pitstops.json'\n",
    "    data = requests.get(url).json()\n",
    "\n",
    "    # empty data to append data to in the case that there are > 1 'Races' in the json object\n",
    "    pitstops = pd.DataFrame()\n",
    "\n",
    "    # parse Json object to obtain the pitstops table.\n",
    "    for x, race in enumerate(data['MRData']['RaceTable']['Races']):\n",
    "        pit_stops = pd.DataFrame(race['PitStops']).set_index('driverId')\n",
    "        pitstops = pitstops.append(pit_stops)\n",
    "\n",
    "    return pitstops\n",
    "\n",
    "def ergast_get_races(year):\n",
    "    url = f'http://ergast.com/api/f1/{year}/races.json'\n",
    "    data = requests.get(url).json()\n",
    "\n",
    "    race_list = []\n",
    "    \n",
    "    for x, race in enumerate(data['MRData']['RaceTable']['Races']):\n",
    "        race_list.append(race['round'])\n",
    "\n",
    "    return race_list\n",
    "\n",
    "def time_to_next_race():\n",
    "    # call api for current season\n",
    "    url = 'http://ergast.com/api/f1/current.json'\n",
    "    data = requests.get(url).json()\n",
    "    \n",
    "    #get today's date\n",
    "    today = dt.date.today().isoformat()\n",
    "    \n",
    "    # get the date of the previous and next race\n",
    "    for race in data['MRData']['RaceTable']['Races']:\n",
    "        if dt.datetime.strptime(race['date'],'%Y-%m-%d').isoformat() < today:\n",
    "            previous_race = dt.datetime.strptime(race['date'],'%Y-%m-%d').isoformat()\n",
    "        else:\n",
    "            next_race = dt.datetime.strptime(race['date'],'%Y-%m-%d').isoformat()\n",
    "            break\n",
    "            \n",
    "    # convert dates to numbers\n",
    "    previous_race = dt.datetime.fromisoformat(previous_race).timestamp()\n",
    "    next_race = dt.datetime.fromisoformat(next_race).timestamp()\n",
    "    now = dt.datetime.fromisoformat(today).timestamp()\n",
    "    \n",
    "    #calculate the percentage time till the next race from the previous race.\n",
    "    pct_ttnr = round((((now-previous_race)/(next_race-previous_race)))*100, 2)\n",
    "    \n",
    "    return pct_ttnr\n",
    "\n",
    "def pit_pos():\n",
    "    # take the average pit time for top 20 positions and plot with trendline (data becomes thin after the top 20)\n",
    "    avg_pt_for_position = data.groupby('position').mean().reset_index().head(20)\n",
    "    scatter = px.scatter(avg_pt_for_position, x='position', y='milliseconds', trendline=\"ols\")\n",
    "    return scatter\n",
    "\n",
    "def pit_pos_tracks():\n",
    "    data_by_tracks = data.groupby(['name','position']).mean().reset_index()\n",
    "    scatter = data_by_tracks.hvplot.scatter(x='position', y='milliseconds', groupby='name')\n",
    "    return scatter\n",
    "\n",
    "def pit_time_histogram():\n",
    "    # multimodal data can be attributed to the modes of pit times ie: 1 stop for entire race vs 2 or 3 stops etc...\n",
    "    histogram = data.hvplot.hist(y='milliseconds',bins = 200, height=500, width=900)\n",
    "    return histogram"
   ]
  },
  {
   "cell_type": "code",
   "execution_count": 13,
   "metadata": {},
   "outputs": [
    {
     "data": {},
     "metadata": {},
     "output_type": "display_data"
    },
    {
     "data": {
      "application/vnd.holoviews_exec.v0+json": "",
      "text/html": [
       "<div id='1368'>\n",
       "\n",
       "\n",
       "\n",
       "\n",
       "\n",
       "  <div class=\"bk-root\" id=\"3f0d58e1-b26f-4203-9bab-3e9bf132e3fb\" data-root-id=\"1368\"></div>\n",
       "</div>\n",
       "<script type=\"application/javascript\">(function(root) {\n",
       "  function embed_document(root) {\n",
       "    var docs_json = {\"5df36ce5-e886-4a10-94de-1301bae739fd\":{\"defs\":[{\"extends\":null,\"module\":null,\"name\":\"ReactiveHTML1\",\"overrides\":[],\"properties\":[]},{\"extends\":null,\"module\":null,\"name\":\"FlexBox1\",\"overrides\":[],\"properties\":[{\"default\":\"flex-start\",\"kind\":null,\"name\":\"align_content\"},{\"default\":\"flex-start\",\"kind\":null,\"name\":\"align_items\"},{\"default\":\"row\",\"kind\":null,\"name\":\"flex_direction\"},{\"default\":\"wrap\",\"kind\":null,\"name\":\"flex_wrap\"},{\"default\":\"flex-start\",\"kind\":null,\"name\":\"justify_content\"}]},{\"extends\":null,\"module\":null,\"name\":\"TemplateActions1\",\"overrides\":[],\"properties\":[{\"default\":0,\"kind\":null,\"name\":\"open_modal\"},{\"default\":0,\"kind\":null,\"name\":\"close_modal\"}]},{\"extends\":null,\"module\":null,\"name\":\"MaterialTemplateActions1\",\"overrides\":[],\"properties\":[{\"default\":0,\"kind\":null,\"name\":\"open_modal\"},{\"default\":0,\"kind\":null,\"name\":\"close_modal\"}]}],\"roots\":{\"references\":[{\"attributes\":{},\"id\":\"1380\",\"type\":\"LinearScale\"},{\"attributes\":{\"below\":[{\"id\":\"1382\"}],\"center\":[{\"id\":\"1385\"},{\"id\":\"1389\"}],\"height\":500,\"left\":[{\"id\":\"1386\"}],\"margin\":[5,5,5,5],\"min_border_bottom\":10,\"min_border_left\":10,\"min_border_right\":10,\"min_border_top\":10,\"renderers\":[{\"id\":\"1409\"}],\"sizing_mode\":\"fixed\",\"title\":{\"id\":\"1374\"},\"toolbar\":{\"id\":\"1396\"},\"width\":900,\"x_range\":{\"id\":\"1370\"},\"x_scale\":{\"id\":\"1378\"},\"y_range\":{\"id\":\"1371\"},\"y_scale\":{\"id\":\"1380\"}},\"id\":\"1373\",\"subtype\":\"Figure\",\"type\":\"Plot\"},{\"attributes\":{},\"id\":\"1378\",\"type\":\"LinearScale\"},{\"attributes\":{\"coordinates\":null,\"data_source\":{\"id\":\"1403\"},\"glyph\":{\"id\":\"1406\"},\"group\":null,\"hover_glyph\":null,\"muted_glyph\":{\"id\":\"1408\"},\"nonselection_glyph\":{\"id\":\"1407\"},\"selection_glyph\":{\"id\":\"1411\"},\"view\":{\"id\":\"1410\"}},\"id\":\"1409\",\"type\":\"GlyphRenderer\"},{\"attributes\":{\"bottom\":{\"value\":0},\"fill_alpha\":{\"value\":0.1},\"fill_color\":{\"value\":\"#30a2da\"},\"hatch_alpha\":{\"value\":0.1},\"hatch_color\":{\"value\":\"#30a2da\"},\"left\":{\"field\":\"left\"},\"line_alpha\":{\"value\":0.1},\"right\":{\"field\":\"right\"},\"top\":{\"field\":\"top\"}},\"id\":\"1407\",\"type\":\"Quad\"},{\"attributes\":{},\"id\":\"1390\",\"type\":\"SaveTool\"},{\"attributes\":{\"source\":{\"id\":\"1403\"}},\"id\":\"1410\",\"type\":\"CDSView\"},{\"attributes\":{\"margin\":[5,5,5,5],\"name\":\"HSpacer02209\",\"sizing_mode\":\"stretch_width\"},\"id\":\"1438\",\"type\":\"Spacer\"},{\"attributes\":{},\"id\":\"1391\",\"type\":\"PanTool\"},{\"attributes\":{\"bottom\":{\"value\":0},\"fill_alpha\":{\"value\":1.0},\"fill_color\":{\"value\":\"#30a2da\"},\"hatch_alpha\":{\"value\":1.0},\"hatch_color\":{\"value\":\"#30a2da\"},\"hatch_scale\":{\"value\":12.0},\"hatch_weight\":{\"value\":1.0},\"left\":{\"field\":\"left\"},\"line_alpha\":{\"value\":1.0},\"line_cap\":{\"value\":\"butt\"},\"line_color\":{\"value\":\"black\"},\"line_dash\":{\"value\":[]},\"line_dash_offset\":{\"value\":0},\"line_join\":{\"value\":\"bevel\"},\"line_width\":{\"value\":1},\"right\":{\"field\":\"right\"},\"top\":{\"field\":\"top\"}},\"id\":\"1411\",\"type\":\"Quad\"},{\"attributes\":{},\"id\":\"1392\",\"type\":\"WheelZoomTool\"},{\"attributes\":{},\"id\":\"1404\",\"type\":\"Selection\"},{\"attributes\":{\"end\":239686.38888888888,\"reset_end\":239686.38888888888,\"reset_start\":5758.6111111111095,\"start\":5758.6111111111095,\"tags\":[[[\"milliseconds\",\"milliseconds\",null]]]},\"id\":\"1370\",\"type\":\"Range1d\"},{\"attributes\":{\"overlay\":{\"id\":\"1395\"}},\"id\":\"1393\",\"type\":\"BoxZoomTool\"},{\"attributes\":{},\"id\":\"1416\",\"type\":\"BasicTickFormatter\"},{\"attributes\":{},\"id\":\"1413\",\"type\":\"BasicTickFormatter\"},{\"attributes\":{},\"id\":\"1394\",\"type\":\"ResetTool\"},{\"attributes\":{\"children\":[{\"id\":\"1369\"},{\"id\":\"1373\"},{\"id\":\"1438\"}],\"margin\":[0,0,0,0],\"name\":\"Row02204\",\"tags\":[\"embedded\"]},\"id\":\"1368\",\"type\":\"Row\"},{\"attributes\":{\"coordinates\":null,\"group\":null,\"text_color\":\"black\",\"text_font_size\":\"12pt\"},\"id\":\"1374\",\"type\":\"Title\"},{\"attributes\":{},\"id\":\"1414\",\"type\":\"AllLabels\"},{\"attributes\":{\"axis_label\":\"milliseconds\",\"coordinates\":null,\"formatter\":{\"id\":\"1413\"},\"group\":null,\"major_label_policy\":{\"id\":\"1414\"},\"ticker\":{\"id\":\"1383\"}},\"id\":\"1382\",\"type\":\"LinearAxis\"},{\"attributes\":{\"bottom_units\":\"screen\",\"coordinates\":null,\"fill_alpha\":0.5,\"fill_color\":\"lightgrey\",\"group\":null,\"left_units\":\"screen\",\"level\":\"overlay\",\"line_alpha\":1.0,\"line_color\":\"black\",\"line_dash\":[4,4],\"line_width\":2,\"right_units\":\"screen\",\"syncable\":false,\"top_units\":\"screen\"},\"id\":\"1395\",\"type\":\"BoxAnnotation\"},{\"attributes\":{\"axis\":{\"id\":\"1386\"},\"coordinates\":null,\"dimension\":1,\"grid_line_color\":null,\"group\":null,\"ticker\":null},\"id\":\"1389\",\"type\":\"Grid\"},{\"attributes\":{},\"id\":\"1425\",\"type\":\"UnionRenderers\"},{\"attributes\":{\"bottom\":{\"value\":0},\"fill_alpha\":{\"value\":0.2},\"fill_color\":{\"value\":\"#30a2da\"},\"hatch_alpha\":{\"value\":0.2},\"hatch_color\":{\"value\":\"#30a2da\"},\"left\":{\"field\":\"left\"},\"line_alpha\":{\"value\":0.2},\"right\":{\"field\":\"right\"},\"top\":{\"field\":\"top\"}},\"id\":\"1408\",\"type\":\"Quad\"},{\"attributes\":{},\"id\":\"1383\",\"type\":\"BasicTicker\"},{\"attributes\":{\"end\":293.7,\"reset_end\":293.7,\"reset_start\":0.0,\"tags\":[[[\"milliseconds_count\",\"Count\",null]]]},\"id\":\"1371\",\"type\":\"Range1d\"},{\"attributes\":{\"margin\":[5,5,5,5],\"name\":\"HSpacer02208\",\"sizing_mode\":\"stretch_width\"},\"id\":\"1369\",\"type\":\"Spacer\"},{\"attributes\":{\"axis\":{\"id\":\"1382\"},\"coordinates\":null,\"grid_line_color\":null,\"group\":null,\"ticker\":null},\"id\":\"1385\",\"type\":\"Grid\"},{\"attributes\":{},\"id\":\"1417\",\"type\":\"AllLabels\"},{\"attributes\":{\"tools\":[{\"id\":\"1372\"},{\"id\":\"1390\"},{\"id\":\"1391\"},{\"id\":\"1392\"},{\"id\":\"1393\"},{\"id\":\"1394\"}]},\"id\":\"1396\",\"type\":\"Toolbar\"},{\"attributes\":{},\"id\":\"1387\",\"type\":\"BasicTicker\"},{\"attributes\":{\"axis_label\":\"\",\"coordinates\":null,\"formatter\":{\"id\":\"1416\"},\"group\":null,\"major_label_policy\":{\"id\":\"1417\"},\"ticker\":{\"id\":\"1387\"}},\"id\":\"1386\",\"type\":\"LinearAxis\"},{\"attributes\":{\"data\":{\"left\":{\"__ndarray__\":\"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\",\"dtype\":\"float64\",\"order\":\"little\",\"shape\":[200]},\"milliseconds\":{\"__ndarray__\":\"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\",\"dtype\":\"float64\",\"order\":\"little\",\"shape\":[200]},\"milliseconds_count\":[1,14,31,145,267,214,236,117,43,34,52,105,87,16,14,11,7,12,6,12,19,36,54,64,116,153,161,138,139,116,110,76,53,36,24,20,27,38,39,52,64,71,47,45,52,43,38,48,44,40,43,37,26,27,33,33,35,25,23,25,27,21,21,15,19,19,11,12,12,17,23,12,4,10,12,12,8,7,5,6,6,6,9,4,5,2,5,4,4,3,3,2,2,4,2,3,5,1,4,3,1,4,2,1,5,0,2,0,0,3,3,1,0,1,3,0,2,3,1,2,0,0,0,0,2,2,0,0,0,1,0,0,0,0,0,0,0,1,0,0,0,1,0,0,0,0,0,1,0,1,0,0,0,2,0,0,0,0,1,0,0,0,0,0,0,0,0,0,0,0,0,0,0,0,0,2,0,0,0,0,0,0,1,1,0,0,0,0,0,0,0,1,0,0,0,0,0,0,0,1],\"right\":{\"__ndarray__\":\"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\",\"dtype\":\"float64\",\"order\":\"little\",\"shape\":[200]},\"top\":[1,14,31,145,267,214,236,117,43,34,52,105,87,16,14,11,7,12,6,12,19,36,54,64,116,153,161,138,139,116,110,76,53,36,24,20,27,38,39,52,64,71,47,45,52,43,38,48,44,40,43,37,26,27,33,33,35,25,23,25,27,21,21,15,19,19,11,12,12,17,23,12,4,10,12,12,8,7,5,6,6,6,9,4,5,2,5,4,4,3,3,2,2,4,2,3,5,1,4,3,1,4,2,1,5,0,2,0,0,3,3,1,0,1,3,0,2,3,1,2,0,0,0,0,2,2,0,0,0,1,0,0,0,0,0,0,0,1,0,0,0,1,0,0,0,0,0,1,0,1,0,0,0,2,0,0,0,0,1,0,0,0,0,0,0,0,0,0,0,0,0,0,0,0,0,2,0,0,0,0,0,0,1,1,0,0,0,0,0,0,0,1,0,0,0,0,0,0,0,1]},\"selected\":{\"id\":\"1404\"},\"selection_policy\":{\"id\":\"1425\"}},\"id\":\"1403\",\"type\":\"ColumnDataSource\"},{\"attributes\":{\"bottom\":{\"value\":0},\"fill_color\":{\"value\":\"#30a2da\"},\"hatch_color\":{\"value\":\"#30a2da\"},\"left\":{\"field\":\"left\"},\"right\":{\"field\":\"right\"},\"top\":{\"field\":\"top\"}},\"id\":\"1406\",\"type\":\"Quad\"},{\"attributes\":{\"callback\":null,\"renderers\":[{\"id\":\"1409\"}],\"tags\":[\"hv_created\"],\"tooltips\":[[\"milliseconds\",\"@{milliseconds}\"],[\"Count\",\"@{milliseconds_count}\"]]},\"id\":\"1372\",\"type\":\"HoverTool\"}],\"root_ids\":[\"1368\"]},\"title\":\"Bokeh Application\",\"version\":\"2.4.1\"}};\n",
       "    var render_items = [{\"docid\":\"5df36ce5-e886-4a10-94de-1301bae739fd\",\"root_ids\":[\"1368\"],\"roots\":{\"1368\":\"3f0d58e1-b26f-4203-9bab-3e9bf132e3fb\"}}];\n",
       "    root.Bokeh.embed.embed_items_notebook(docs_json, render_items);\n",
       "  }\n",
       "  if (root.Bokeh !== undefined && root.Bokeh.Panel !== undefined) {\n",
       "    embed_document(root);\n",
       "  } else {\n",
       "    var attempts = 0;\n",
       "    var timer = setInterval(function(root) {\n",
       "      if (root.Bokeh !== undefined && root.Bokeh.Panel !== undefined) {\n",
       "        clearInterval(timer);\n",
       "        embed_document(root);\n",
       "      } else if (document.readyState == \"complete\") {\n",
       "        attempts++;\n",
       "        if (attempts > 200) {\n",
       "          clearInterval(timer);\n",
       "          console.log(\"Bokeh: ERROR: Unable to run BokehJS code because BokehJS library is missing\");\n",
       "        }\n",
       "      }\n",
       "    }, 25, root)\n",
       "  }\n",
       "})(window);</script>"
      ],
      "text/plain": [
       ":Histogram   [milliseconds]   (milliseconds_count)"
      ]
     },
     "execution_count": 13,
     "metadata": {
      "application/vnd.holoviews_exec.v0+json": {
       "id": "1368"
      }
     },
     "output_type": "execute_result"
    }
   ],
   "source": [
    "pit_time_histogram()"
   ]
  },
  {
   "cell_type": "code",
   "execution_count": 12,
   "metadata": {},
   "outputs": [
    {
     "data": {
      "application/vnd.plotly.v1+json": {
       "config": {
        "plotlyServerURL": "https://plot.ly"
       },
       "data": [
        {
         "hovertemplate": "position=%{x}<br>milliseconds=%{y}<extra></extra>",
         "legendgroup": "",
         "marker": {
          "color": "#636efa",
          "symbol": "circle"
         },
         "mode": "markers",
         "name": "",
         "orientation": "v",
         "showlegend": false,
         "type": "scatter",
         "x": [
          1,
          2,
          3,
          4,
          5,
          6,
          7,
          8,
          9,
          10,
          11,
          12,
          13,
          14,
          15,
          16,
          17,
          18,
          19,
          20
         ],
         "xaxis": "x",
         "y": [
          45837.89603960396,
          46433.748768472906,
          47384.65,
          48018.76804123711,
          48441.16836734694,
          48470.182291666664,
          45337.00518134715,
          47313.38144329897,
          48495.354166666664,
          47534.436170212764,
          46962.25,
          48569.701030927834,
          48707.87046632124,
          48593.53125,
          50075.57608695652,
          48834.942708333336,
          49266.48314606742,
          52577.677777777775,
          49655.16766467066,
          53828.375757575755
         ],
         "yaxis": "y"
        },
        {
         "hovertemplate": "<b>OLS trendline</b><br>milliseconds = 262.329 * position + 45762.5<br>R<sup>2</sup>=0.593305<br><br>position=%{x}<br>milliseconds=%{y} <b>(trend)</b><extra></extra>",
         "legendgroup": "",
         "marker": {
          "color": "#636efa",
          "symbol": "circle"
         },
         "mode": "lines",
         "name": "",
         "showlegend": false,
         "type": "scatter",
         "x": [
          1,
          2,
          3,
          4,
          5,
          6,
          7,
          8,
          9,
          10,
          11,
          12,
          13,
          14,
          15,
          16,
          17,
          18,
          19,
          20
         ],
         "xaxis": "x",
         "y": [
          46024.779797688454,
          46287.109115608,
          46549.438433527546,
          46811.76775144709,
          47074.097069366646,
          47336.42638728619,
          47598.75570520574,
          47861.085023125284,
          48123.41434104483,
          48385.74365896438,
          48648.07297688392,
          48910.40229480347,
          49172.731612723015,
          49435.06093064256,
          49697.390248562115,
          49959.71956648166,
          50222.04888440121,
          50484.37820232075,
          50746.7075202403,
          51009.036838159846
         ],
         "yaxis": "y"
        }
       ],
       "layout": {
        "autosize": true,
        "legend": {
         "tracegroupgap": 0
        },
        "margin": {
         "t": 60
        },
        "template": {
         "data": {
          "bar": [
           {
            "error_x": {
             "color": "#2a3f5f"
            },
            "error_y": {
             "color": "#2a3f5f"
            },
            "marker": {
             "line": {
              "color": "#E5ECF6",
              "width": 0.5
             },
             "pattern": {
              "fillmode": "overlay",
              "size": 10,
              "solidity": 0.2
             }
            },
            "type": "bar"
           }
          ],
          "barpolar": [
           {
            "marker": {
             "line": {
              "color": "#E5ECF6",
              "width": 0.5
             },
             "pattern": {
              "fillmode": "overlay",
              "size": 10,
              "solidity": 0.2
             }
            },
            "type": "barpolar"
           }
          ],
          "carpet": [
           {
            "aaxis": {
             "endlinecolor": "#2a3f5f",
             "gridcolor": "white",
             "linecolor": "white",
             "minorgridcolor": "white",
             "startlinecolor": "#2a3f5f"
            },
            "baxis": {
             "endlinecolor": "#2a3f5f",
             "gridcolor": "white",
             "linecolor": "white",
             "minorgridcolor": "white",
             "startlinecolor": "#2a3f5f"
            },
            "type": "carpet"
           }
          ],
          "choropleth": [
           {
            "colorbar": {
             "outlinewidth": 0,
             "ticks": ""
            },
            "type": "choropleth"
           }
          ],
          "contour": [
           {
            "colorbar": {
             "outlinewidth": 0,
             "ticks": ""
            },
            "colorscale": [
             [
              0,
              "#0d0887"
             ],
             [
              0.1111111111111111,
              "#46039f"
             ],
             [
              0.2222222222222222,
              "#7201a8"
             ],
             [
              0.3333333333333333,
              "#9c179e"
             ],
             [
              0.4444444444444444,
              "#bd3786"
             ],
             [
              0.5555555555555556,
              "#d8576b"
             ],
             [
              0.6666666666666666,
              "#ed7953"
             ],
             [
              0.7777777777777778,
              "#fb9f3a"
             ],
             [
              0.8888888888888888,
              "#fdca26"
             ],
             [
              1,
              "#f0f921"
             ]
            ],
            "type": "contour"
           }
          ],
          "contourcarpet": [
           {
            "colorbar": {
             "outlinewidth": 0,
             "ticks": ""
            },
            "type": "contourcarpet"
           }
          ],
          "heatmap": [
           {
            "colorbar": {
             "outlinewidth": 0,
             "ticks": ""
            },
            "colorscale": [
             [
              0,
              "#0d0887"
             ],
             [
              0.1111111111111111,
              "#46039f"
             ],
             [
              0.2222222222222222,
              "#7201a8"
             ],
             [
              0.3333333333333333,
              "#9c179e"
             ],
             [
              0.4444444444444444,
              "#bd3786"
             ],
             [
              0.5555555555555556,
              "#d8576b"
             ],
             [
              0.6666666666666666,
              "#ed7953"
             ],
             [
              0.7777777777777778,
              "#fb9f3a"
             ],
             [
              0.8888888888888888,
              "#fdca26"
             ],
             [
              1,
              "#f0f921"
             ]
            ],
            "type": "heatmap"
           }
          ],
          "heatmapgl": [
           {
            "colorbar": {
             "outlinewidth": 0,
             "ticks": ""
            },
            "colorscale": [
             [
              0,
              "#0d0887"
             ],
             [
              0.1111111111111111,
              "#46039f"
             ],
             [
              0.2222222222222222,
              "#7201a8"
             ],
             [
              0.3333333333333333,
              "#9c179e"
             ],
             [
              0.4444444444444444,
              "#bd3786"
             ],
             [
              0.5555555555555556,
              "#d8576b"
             ],
             [
              0.6666666666666666,
              "#ed7953"
             ],
             [
              0.7777777777777778,
              "#fb9f3a"
             ],
             [
              0.8888888888888888,
              "#fdca26"
             ],
             [
              1,
              "#f0f921"
             ]
            ],
            "type": "heatmapgl"
           }
          ],
          "histogram": [
           {
            "marker": {
             "pattern": {
              "fillmode": "overlay",
              "size": 10,
              "solidity": 0.2
             }
            },
            "type": "histogram"
           }
          ],
          "histogram2d": [
           {
            "colorbar": {
             "outlinewidth": 0,
             "ticks": ""
            },
            "colorscale": [
             [
              0,
              "#0d0887"
             ],
             [
              0.1111111111111111,
              "#46039f"
             ],
             [
              0.2222222222222222,
              "#7201a8"
             ],
             [
              0.3333333333333333,
              "#9c179e"
             ],
             [
              0.4444444444444444,
              "#bd3786"
             ],
             [
              0.5555555555555556,
              "#d8576b"
             ],
             [
              0.6666666666666666,
              "#ed7953"
             ],
             [
              0.7777777777777778,
              "#fb9f3a"
             ],
             [
              0.8888888888888888,
              "#fdca26"
             ],
             [
              1,
              "#f0f921"
             ]
            ],
            "type": "histogram2d"
           }
          ],
          "histogram2dcontour": [
           {
            "colorbar": {
             "outlinewidth": 0,
             "ticks": ""
            },
            "colorscale": [
             [
              0,
              "#0d0887"
             ],
             [
              0.1111111111111111,
              "#46039f"
             ],
             [
              0.2222222222222222,
              "#7201a8"
             ],
             [
              0.3333333333333333,
              "#9c179e"
             ],
             [
              0.4444444444444444,
              "#bd3786"
             ],
             [
              0.5555555555555556,
              "#d8576b"
             ],
             [
              0.6666666666666666,
              "#ed7953"
             ],
             [
              0.7777777777777778,
              "#fb9f3a"
             ],
             [
              0.8888888888888888,
              "#fdca26"
             ],
             [
              1,
              "#f0f921"
             ]
            ],
            "type": "histogram2dcontour"
           }
          ],
          "mesh3d": [
           {
            "colorbar": {
             "outlinewidth": 0,
             "ticks": ""
            },
            "type": "mesh3d"
           }
          ],
          "parcoords": [
           {
            "line": {
             "colorbar": {
              "outlinewidth": 0,
              "ticks": ""
             }
            },
            "type": "parcoords"
           }
          ],
          "pie": [
           {
            "automargin": true,
            "type": "pie"
           }
          ],
          "scatter": [
           {
            "marker": {
             "colorbar": {
              "outlinewidth": 0,
              "ticks": ""
             }
            },
            "type": "scatter"
           }
          ],
          "scatter3d": [
           {
            "line": {
             "colorbar": {
              "outlinewidth": 0,
              "ticks": ""
             }
            },
            "marker": {
             "colorbar": {
              "outlinewidth": 0,
              "ticks": ""
             }
            },
            "type": "scatter3d"
           }
          ],
          "scattercarpet": [
           {
            "marker": {
             "colorbar": {
              "outlinewidth": 0,
              "ticks": ""
             }
            },
            "type": "scattercarpet"
           }
          ],
          "scattergeo": [
           {
            "marker": {
             "colorbar": {
              "outlinewidth": 0,
              "ticks": ""
             }
            },
            "type": "scattergeo"
           }
          ],
          "scattergl": [
           {
            "marker": {
             "colorbar": {
              "outlinewidth": 0,
              "ticks": ""
             }
            },
            "type": "scattergl"
           }
          ],
          "scattermapbox": [
           {
            "marker": {
             "colorbar": {
              "outlinewidth": 0,
              "ticks": ""
             }
            },
            "type": "scattermapbox"
           }
          ],
          "scatterpolar": [
           {
            "marker": {
             "colorbar": {
              "outlinewidth": 0,
              "ticks": ""
             }
            },
            "type": "scatterpolar"
           }
          ],
          "scatterpolargl": [
           {
            "marker": {
             "colorbar": {
              "outlinewidth": 0,
              "ticks": ""
             }
            },
            "type": "scatterpolargl"
           }
          ],
          "scatterternary": [
           {
            "marker": {
             "colorbar": {
              "outlinewidth": 0,
              "ticks": ""
             }
            },
            "type": "scatterternary"
           }
          ],
          "surface": [
           {
            "colorbar": {
             "outlinewidth": 0,
             "ticks": ""
            },
            "colorscale": [
             [
              0,
              "#0d0887"
             ],
             [
              0.1111111111111111,
              "#46039f"
             ],
             [
              0.2222222222222222,
              "#7201a8"
             ],
             [
              0.3333333333333333,
              "#9c179e"
             ],
             [
              0.4444444444444444,
              "#bd3786"
             ],
             [
              0.5555555555555556,
              "#d8576b"
             ],
             [
              0.6666666666666666,
              "#ed7953"
             ],
             [
              0.7777777777777778,
              "#fb9f3a"
             ],
             [
              0.8888888888888888,
              "#fdca26"
             ],
             [
              1,
              "#f0f921"
             ]
            ],
            "type": "surface"
           }
          ],
          "table": [
           {
            "cells": {
             "fill": {
              "color": "#EBF0F8"
             },
             "line": {
              "color": "white"
             }
            },
            "header": {
             "fill": {
              "color": "#C8D4E3"
             },
             "line": {
              "color": "white"
             }
            },
            "type": "table"
           }
          ]
         },
         "layout": {
          "annotationdefaults": {
           "arrowcolor": "#2a3f5f",
           "arrowhead": 0,
           "arrowwidth": 1
          },
          "autotypenumbers": "strict",
          "coloraxis": {
           "colorbar": {
            "outlinewidth": 0,
            "ticks": ""
           }
          },
          "colorscale": {
           "diverging": [
            [
             0,
             "#8e0152"
            ],
            [
             0.1,
             "#c51b7d"
            ],
            [
             0.2,
             "#de77ae"
            ],
            [
             0.3,
             "#f1b6da"
            ],
            [
             0.4,
             "#fde0ef"
            ],
            [
             0.5,
             "#f7f7f7"
            ],
            [
             0.6,
             "#e6f5d0"
            ],
            [
             0.7,
             "#b8e186"
            ],
            [
             0.8,
             "#7fbc41"
            ],
            [
             0.9,
             "#4d9221"
            ],
            [
             1,
             "#276419"
            ]
           ],
           "sequential": [
            [
             0,
             "#0d0887"
            ],
            [
             0.1111111111111111,
             "#46039f"
            ],
            [
             0.2222222222222222,
             "#7201a8"
            ],
            [
             0.3333333333333333,
             "#9c179e"
            ],
            [
             0.4444444444444444,
             "#bd3786"
            ],
            [
             0.5555555555555556,
             "#d8576b"
            ],
            [
             0.6666666666666666,
             "#ed7953"
            ],
            [
             0.7777777777777778,
             "#fb9f3a"
            ],
            [
             0.8888888888888888,
             "#fdca26"
            ],
            [
             1,
             "#f0f921"
            ]
           ],
           "sequentialminus": [
            [
             0,
             "#0d0887"
            ],
            [
             0.1111111111111111,
             "#46039f"
            ],
            [
             0.2222222222222222,
             "#7201a8"
            ],
            [
             0.3333333333333333,
             "#9c179e"
            ],
            [
             0.4444444444444444,
             "#bd3786"
            ],
            [
             0.5555555555555556,
             "#d8576b"
            ],
            [
             0.6666666666666666,
             "#ed7953"
            ],
            [
             0.7777777777777778,
             "#fb9f3a"
            ],
            [
             0.8888888888888888,
             "#fdca26"
            ],
            [
             1,
             "#f0f921"
            ]
           ]
          },
          "colorway": [
           "#636efa",
           "#EF553B",
           "#00cc96",
           "#ab63fa",
           "#FFA15A",
           "#19d3f3",
           "#FF6692",
           "#B6E880",
           "#FF97FF",
           "#FECB52"
          ],
          "font": {
           "color": "#2a3f5f"
          },
          "geo": {
           "bgcolor": "white",
           "lakecolor": "white",
           "landcolor": "#E5ECF6",
           "showlakes": true,
           "showland": true,
           "subunitcolor": "white"
          },
          "hoverlabel": {
           "align": "left"
          },
          "hovermode": "closest",
          "mapbox": {
           "style": "light"
          },
          "paper_bgcolor": "white",
          "plot_bgcolor": "#E5ECF6",
          "polar": {
           "angularaxis": {
            "gridcolor": "white",
            "linecolor": "white",
            "ticks": ""
           },
           "bgcolor": "#E5ECF6",
           "radialaxis": {
            "gridcolor": "white",
            "linecolor": "white",
            "ticks": ""
           }
          },
          "scene": {
           "xaxis": {
            "backgroundcolor": "#E5ECF6",
            "gridcolor": "white",
            "gridwidth": 2,
            "linecolor": "white",
            "showbackground": true,
            "ticks": "",
            "zerolinecolor": "white"
           },
           "yaxis": {
            "backgroundcolor": "#E5ECF6",
            "gridcolor": "white",
            "gridwidth": 2,
            "linecolor": "white",
            "showbackground": true,
            "ticks": "",
            "zerolinecolor": "white"
           },
           "zaxis": {
            "backgroundcolor": "#E5ECF6",
            "gridcolor": "white",
            "gridwidth": 2,
            "linecolor": "white",
            "showbackground": true,
            "ticks": "",
            "zerolinecolor": "white"
           }
          },
          "shapedefaults": {
           "line": {
            "color": "#2a3f5f"
           }
          },
          "ternary": {
           "aaxis": {
            "gridcolor": "white",
            "linecolor": "white",
            "ticks": ""
           },
           "baxis": {
            "gridcolor": "white",
            "linecolor": "white",
            "ticks": ""
           },
           "bgcolor": "#E5ECF6",
           "caxis": {
            "gridcolor": "white",
            "linecolor": "white",
            "ticks": ""
           }
          },
          "title": {
           "x": 0.05
          },
          "xaxis": {
           "automargin": true,
           "gridcolor": "white",
           "linecolor": "white",
           "ticks": "",
           "title": {
            "standoff": 15
           },
           "zerolinecolor": "white",
           "zerolinewidth": 2
          },
          "yaxis": {
           "automargin": true,
           "gridcolor": "white",
           "linecolor": "white",
           "ticks": "",
           "title": {
            "standoff": 15
           },
           "zerolinecolor": "white",
           "zerolinewidth": 2
          }
         }
        },
        "xaxis": {
         "anchor": "y",
         "autorange": true,
         "domain": [
          0,
          1
         ],
         "range": [
          -0.10855593492669247,
          21.10855593492669
         ],
         "title": {
          "text": "position"
         },
         "type": "linear"
        },
        "yaxis": {
         "anchor": "x",
         "autorange": true,
         "domain": [
          0,
          1
         ],
         "range": [
          44679.53685589113,
          54485.84408303178
         ],
         "title": {
          "text": "milliseconds"
         },
         "type": "linear"
        }
       }
      },
      "image/png": "[encoded data removed]",
      "text/html": [
       "<div>                            <div id=\"09afb59b-a088-44c9-b2ac-247d88655386\" class=\"plotly-graph-div\" style=\"height:525px; width:100%;\"></div>            <script type=\"text/javascript\">                require([\"plotly\"], function(Plotly) {                    window.PLOTLYENV=window.PLOTLYENV || {};                                    if (document.getElementById(\"09afb59b-a088-44c9-b2ac-247d88655386\")) {                    Plotly.newPlot(                        \"09afb59b-a088-44c9-b2ac-247d88655386\",                        [{\"hovertemplate\":\"position=%{x}<br>milliseconds=%{y}<extra></extra>\",\"legendgroup\":\"\",\"marker\":{\"color\":\"#636efa\",\"symbol\":\"circle\"},\"mode\":\"markers\",\"name\":\"\",\"orientation\":\"v\",\"showlegend\":false,\"x\":[1,2,3,4,5,6,7,8,9,10,11,12,13,14,15,16,17,18,19,20],\"xaxis\":\"x\",\"y\":[45837.89603960396,46433.748768472906,47384.65,48018.76804123711,48441.16836734694,48470.182291666664,45337.00518134715,47313.38144329897,48495.354166666664,47534.436170212764,46962.25,48569.701030927834,48707.87046632124,48593.53125,50075.57608695652,48834.942708333336,49266.48314606742,52577.677777777775,49655.16766467066,53828.375757575755],\"yaxis\":\"y\",\"type\":\"scatter\"},{\"hovertemplate\":\"<b>OLS trendline</b><br>milliseconds = 262.329 * position + 45762.5<br>R<sup>2</sup>=0.593305<br><br>position=%{x}<br>milliseconds=%{y} <b>(trend)</b><extra></extra>\",\"legendgroup\":\"\",\"marker\":{\"color\":\"#636efa\",\"symbol\":\"circle\"},\"mode\":\"lines\",\"name\":\"\",\"showlegend\":false,\"x\":[1,2,3,4,5,6,7,8,9,10,11,12,13,14,15,16,17,18,19,20],\"xaxis\":\"x\",\"y\":[46024.779797688454,46287.109115608,46549.438433527546,46811.76775144709,47074.097069366646,47336.42638728619,47598.75570520574,47861.085023125284,48123.41434104483,48385.74365896438,48648.07297688392,48910.40229480347,49172.731612723015,49435.06093064256,49697.390248562115,49959.71956648166,50222.04888440121,50484.37820232075,50746.7075202403,51009.036838159846],\"yaxis\":\"y\",\"type\":\"scatter\"}],                        {\"template\":{\"data\":{\"bar\":[{\"error_x\":{\"color\":\"#2a3f5f\"},\"error_y\":{\"color\":\"#2a3f5f\"},\"marker\":{\"line\":{\"color\":\"#E5ECF6\",\"width\":0.5},\"pattern\":{\"fillmode\":\"overlay\",\"size\":10,\"solidity\":0.2}},\"type\":\"bar\"}],\"barpolar\":[{\"marker\":{\"line\":{\"color\":\"#E5ECF6\",\"width\":0.5},\"pattern\":{\"fillmode\":\"overlay\",\"size\":10,\"solidity\":0.2}},\"type\":\"barpolar\"}],\"carpet\":[{\"aaxis\":{\"endlinecolor\":\"#2a3f5f\",\"gridcolor\":\"white\",\"linecolor\":\"white\",\"minorgridcolor\":\"white\",\"startlinecolor\":\"#2a3f5f\"},\"baxis\":{\"endlinecolor\":\"#2a3f5f\",\"gridcolor\":\"white\",\"linecolor\":\"white\",\"minorgridcolor\":\"white\",\"startlinecolor\":\"#2a3f5f\"},\"type\":\"carpet\"}],\"choropleth\":[{\"colorbar\":{\"outlinewidth\":0,\"ticks\":\"\"},\"type\":\"choropleth\"}],\"contour\":[{\"colorbar\":{\"outlinewidth\":0,\"ticks\":\"\"},\"colorscale\":[[0.0,\"#0d0887\"],[0.1111111111111111,\"#46039f\"],[0.2222222222222222,\"#7201a8\"],[0.3333333333333333,\"#9c179e\"],[0.4444444444444444,\"#bd3786\"],[0.5555555555555556,\"#d8576b\"],[0.6666666666666666,\"#ed7953\"],[0.7777777777777778,\"#fb9f3a\"],[0.8888888888888888,\"#fdca26\"],[1.0,\"#f0f921\"]],\"type\":\"contour\"}],\"contourcarpet\":[{\"colorbar\":{\"outlinewidth\":0,\"ticks\":\"\"},\"type\":\"contourcarpet\"}],\"heatmap\":[{\"colorbar\":{\"outlinewidth\":0,\"ticks\":\"\"},\"colorscale\":[[0.0,\"#0d0887\"],[0.1111111111111111,\"#46039f\"],[0.2222222222222222,\"#7201a8\"],[0.3333333333333333,\"#9c179e\"],[0.4444444444444444,\"#bd3786\"],[0.5555555555555556,\"#d8576b\"],[0.6666666666666666,\"#ed7953\"],[0.7777777777777778,\"#fb9f3a\"],[0.8888888888888888,\"#fdca26\"],[1.0,\"#f0f921\"]],\"type\":\"heatmap\"}],\"heatmapgl\":[{\"colorbar\":{\"outlinewidth\":0,\"ticks\":\"\"},\"colorscale\":[[0.0,\"#0d0887\"],[0.1111111111111111,\"#46039f\"],[0.2222222222222222,\"#7201a8\"],[0.3333333333333333,\"#9c179e\"],[0.4444444444444444,\"#bd3786\"],[0.5555555555555556,\"#d8576b\"],[0.6666666666666666,\"#ed7953\"],[0.7777777777777778,\"#fb9f3a\"],[0.8888888888888888,\"#fdca26\"],[1.0,\"#f0f921\"]],\"type\":\"heatmapgl\"}],\"histogram\":[{\"marker\":{\"pattern\":{\"fillmode\":\"overlay\",\"size\":10,\"solidity\":0.2}},\"type\":\"histogram\"}],\"histogram2d\":[{\"colorbar\":{\"outlinewidth\":0,\"ticks\":\"\"},\"colorscale\":[[0.0,\"#0d0887\"],[0.1111111111111111,\"#46039f\"],[0.2222222222222222,\"#7201a8\"],[0.3333333333333333,\"#9c179e\"],[0.4444444444444444,\"#bd3786\"],[0.5555555555555556,\"#d8576b\"],[0.6666666666666666,\"#ed7953\"],[0.7777777777777778,\"#fb9f3a\"],[0.8888888888888888,\"#fdca26\"],[1.0,\"#f0f921\"]],\"type\":\"histogram2d\"}],\"histogram2dcontour\":[{\"colorbar\":{\"outlinewidth\":0,\"ticks\":\"\"},\"colorscale\":[[0.0,\"#0d0887\"],[0.1111111111111111,\"#46039f\"],[0.2222222222222222,\"#7201a8\"],[0.3333333333333333,\"#9c179e\"],[0.4444444444444444,\"#bd3786\"],[0.5555555555555556,\"#d8576b\"],[0.6666666666666666,\"#ed7953\"],[0.7777777777777778,\"#fb9f3a\"],[0.8888888888888888,\"#fdca26\"],[1.0,\"#f0f921\"]],\"type\":\"histogram2dcontour\"}],\"mesh3d\":[{\"colorbar\":{\"outlinewidth\":0,\"ticks\":\"\"},\"type\":\"mesh3d\"}],\"parcoords\":[{\"line\":{\"colorbar\":{\"outlinewidth\":0,\"ticks\":\"\"}},\"type\":\"parcoords\"}],\"pie\":[{\"automargin\":true,\"type\":\"pie\"}],\"scatter\":[{\"marker\":{\"colorbar\":{\"outlinewidth\":0,\"ticks\":\"\"}},\"type\":\"scatter\"}],\"scatter3d\":[{\"line\":{\"colorbar\":{\"outlinewidth\":0,\"ticks\":\"\"}},\"marker\":{\"colorbar\":{\"outlinewidth\":0,\"ticks\":\"\"}},\"type\":\"scatter3d\"}],\"scattercarpet\":[{\"marker\":{\"colorbar\":{\"outlinewidth\":0,\"ticks\":\"\"}},\"type\":\"scattercarpet\"}],\"scattergeo\":[{\"marker\":{\"colorbar\":{\"outlinewidth\":0,\"ticks\":\"\"}},\"type\":\"scattergeo\"}],\"scattergl\":[{\"marker\":{\"colorbar\":{\"outlinewidth\":0,\"ticks\":\"\"}},\"type\":\"scattergl\"}],\"scattermapbox\":[{\"marker\":{\"colorbar\":{\"outlinewidth\":0,\"ticks\":\"\"}},\"type\":\"scattermapbox\"}],\"scatterpolar\":[{\"marker\":{\"colorbar\":{\"outlinewidth\":0,\"ticks\":\"\"}},\"type\":\"scatterpolar\"}],\"scatterpolargl\":[{\"marker\":{\"colorbar\":{\"outlinewidth\":0,\"ticks\":\"\"}},\"type\":\"scatterpolargl\"}],\"scatterternary\":[{\"marker\":{\"colorbar\":{\"outlinewidth\":0,\"ticks\":\"\"}},\"type\":\"scatterternary\"}],\"surface\":[{\"colorbar\":{\"outlinewidth\":0,\"ticks\":\"\"},\"colorscale\":[[0.0,\"#0d0887\"],[0.1111111111111111,\"#46039f\"],[0.2222222222222222,\"#7201a8\"],[0.3333333333333333,\"#9c179e\"],[0.4444444444444444,\"#bd3786\"],[0.5555555555555556,\"#d8576b\"],[0.6666666666666666,\"#ed7953\"],[0.7777777777777778,\"#fb9f3a\"],[0.8888888888888888,\"#fdca26\"],[1.0,\"#f0f921\"]],\"type\":\"surface\"}],\"table\":[{\"cells\":{\"fill\":{\"color\":\"#EBF0F8\"},\"line\":{\"color\":\"white\"}},\"header\":{\"fill\":{\"color\":\"#C8D4E3\"},\"line\":{\"color\":\"white\"}},\"type\":\"table\"}]},\"layout\":{\"annotationdefaults\":{\"arrowcolor\":\"#2a3f5f\",\"arrowhead\":0,\"arrowwidth\":1},\"autotypenumbers\":\"strict\",\"coloraxis\":{\"colorbar\":{\"outlinewidth\":0,\"ticks\":\"\"}},\"colorscale\":{\"diverging\":[[0,\"#8e0152\"],[0.1,\"#c51b7d\"],[0.2,\"#de77ae\"],[0.3,\"#f1b6da\"],[0.4,\"#fde0ef\"],[0.5,\"#f7f7f7\"],[0.6,\"#e6f5d0\"],[0.7,\"#b8e186\"],[0.8,\"#7fbc41\"],[0.9,\"#4d9221\"],[1,\"#276419\"]],\"sequential\":[[0.0,\"#0d0887\"],[0.1111111111111111,\"#46039f\"],[0.2222222222222222,\"#7201a8\"],[0.3333333333333333,\"#9c179e\"],[0.4444444444444444,\"#bd3786\"],[0.5555555555555556,\"#d8576b\"],[0.6666666666666666,\"#ed7953\"],[0.7777777777777778,\"#fb9f3a\"],[0.8888888888888888,\"#fdca26\"],[1.0,\"#f0f921\"]],\"sequentialminus\":[[0.0,\"#0d0887\"],[0.1111111111111111,\"#46039f\"],[0.2222222222222222,\"#7201a8\"],[0.3333333333333333,\"#9c179e\"],[0.4444444444444444,\"#bd3786\"],[0.5555555555555556,\"#d8576b\"],[0.6666666666666666,\"#ed7953\"],[0.7777777777777778,\"#fb9f3a\"],[0.8888888888888888,\"#fdca26\"],[1.0,\"#f0f921\"]]},\"colorway\":[\"#636efa\",\"#EF553B\",\"#00cc96\",\"#ab63fa\",\"#FFA15A\",\"#19d3f3\",\"#FF6692\",\"#B6E880\",\"#FF97FF\",\"#FECB52\"],\"font\":{\"color\":\"#2a3f5f\"},\"geo\":{\"bgcolor\":\"white\",\"lakecolor\":\"white\",\"landcolor\":\"#E5ECF6\",\"showlakes\":true,\"showland\":true,\"subunitcolor\":\"white\"},\"hoverlabel\":{\"align\":\"left\"},\"hovermode\":\"closest\",\"mapbox\":{\"style\":\"light\"},\"paper_bgcolor\":\"white\",\"plot_bgcolor\":\"#E5ECF6\",\"polar\":{\"angularaxis\":{\"gridcolor\":\"white\",\"linecolor\":\"white\",\"ticks\":\"\"},\"bgcolor\":\"#E5ECF6\",\"radialaxis\":{\"gridcolor\":\"white\",\"linecolor\":\"white\",\"ticks\":\"\"}},\"scene\":{\"xaxis\":{\"backgroundcolor\":\"#E5ECF6\",\"gridcolor\":\"white\",\"gridwidth\":2,\"linecolor\":\"white\",\"showbackground\":true,\"ticks\":\"\",\"zerolinecolor\":\"white\"},\"yaxis\":{\"backgroundcolor\":\"#E5ECF6\",\"gridcolor\":\"white\",\"gridwidth\":2,\"linecolor\":\"white\",\"showbackground\":true,\"ticks\":\"\",\"zerolinecolor\":\"white\"},\"zaxis\":{\"backgroundcolor\":\"#E5ECF6\",\"gridcolor\":\"white\",\"gridwidth\":2,\"linecolor\":\"white\",\"showbackground\":true,\"ticks\":\"\",\"zerolinecolor\":\"white\"}},\"shapedefaults\":{\"line\":{\"color\":\"#2a3f5f\"}},\"ternary\":{\"aaxis\":{\"gridcolor\":\"white\",\"linecolor\":\"white\",\"ticks\":\"\"},\"baxis\":{\"gridcolor\":\"white\",\"linecolor\":\"white\",\"ticks\":\"\"},\"bgcolor\":\"#E5ECF6\",\"caxis\":{\"gridcolor\":\"white\",\"linecolor\":\"white\",\"ticks\":\"\"}},\"title\":{\"x\":0.05},\"xaxis\":{\"automargin\":true,\"gridcolor\":\"white\",\"linecolor\":\"white\",\"ticks\":\"\",\"title\":{\"standoff\":15},\"zerolinecolor\":\"white\",\"zerolinewidth\":2},\"yaxis\":{\"automargin\":true,\"gridcolor\":\"white\",\"linecolor\":\"white\",\"ticks\":\"\",\"title\":{\"standoff\":15},\"zerolinecolor\":\"white\",\"zerolinewidth\":2}}},\"xaxis\":{\"anchor\":\"y\",\"domain\":[0.0,1.0],\"title\":{\"text\":\"position\"}},\"yaxis\":{\"anchor\":\"x\",\"domain\":[0.0,1.0],\"title\":{\"text\":\"milliseconds\"}},\"legend\":{\"tracegroupgap\":0},\"margin\":{\"t\":60}},                        {\"responsive\": true}                    ).then(function(){\n",
       "                            \n",
       "var gd = document.getElementById('09afb59b-a088-44c9-b2ac-247d88655386');\n",
       "var x = new MutationObserver(function (mutations, observer) {{\n",
       "        var display = window.getComputedStyle(gd).display;\n",
       "        if (!display || display === 'none') {{\n",
       "            console.log([gd, 'removed!']);\n",
       "            Plotly.purge(gd);\n",
       "            observer.disconnect();\n",
       "        }}\n",
       "}});\n",
       "\n",
       "// Listen for the removal of the full notebook cells\n",
       "var notebookContainer = gd.closest('#notebook-container');\n",
       "if (notebookContainer) {{\n",
       "    x.observe(notebookContainer, {childList: true});\n",
       "}}\n",
       "\n",
       "// Listen for the clearing of the current output cell\n",
       "var outputEl = gd.closest('.output');\n",
       "if (outputEl) {{\n",
       "    x.observe(outputEl, {childList: true});\n",
       "}}\n",
       "\n",
       "                        })                };                });            </script>        </div>"
      ]
     },
     "metadata": {},
     "output_type": "display_data"
    }
   ],
   "source": [
    "pit_pos()"
   ]
  },
  {
   "cell_type": "markdown",
   "metadata": {},
   "source": [
    "## Is this causation or just correlation?\n",
    "Although the trendline appears to indicate some level of correlation between pit time and final position, it is unclear if this relationship is causal. There are many factors that go into pitstops, including strategy, tracklayout, weather conditions etc. This correlation however, may indicate that teams with lower pit times are somewhat better at coordinating a team for higher win rates, and therefore pit times are a good indicator for a teams overall success."
   ]
  },
  {
   "cell_type": "code",
   "execution_count": 13,
   "metadata": {},
   "outputs": [
    {
     "data": {},
     "metadata": {},
     "output_type": "display_data"
    },
    {
     "data": {
      "application/vnd.holoviews_exec.v0+json": "",
      "text/html": [
       "<div id='1002'>\n",
       "\n",
       "\n",
       "\n",
       "\n",
       "\n",
       "  <div class=\"bk-root\" id=\"7316b0d9-d5fc-49e9-93c1-1d86a578a39f\" data-root-id=\"1002\"></div>\n",
       "</div>\n",
       "<script type=\"application/javascript\">(function(root) {\n",
       "  function embed_document(root) {\n",
       "    var docs_json = {\"bf7172fd-abea-4a20-85bd-01b498f787ab\":{\"defs\":[{\"extends\":null,\"module\":null,\"name\":\"ReactiveHTML1\",\"overrides\":[],\"properties\":[]},{\"extends\":null,\"module\":null,\"name\":\"FlexBox1\",\"overrides\":[],\"properties\":[{\"default\":\"flex-start\",\"kind\":null,\"name\":\"align_content\"},{\"default\":\"flex-start\",\"kind\":null,\"name\":\"align_items\"},{\"default\":\"row\",\"kind\":null,\"name\":\"flex_direction\"},{\"default\":\"wrap\",\"kind\":null,\"name\":\"flex_wrap\"},{\"default\":\"flex-start\",\"kind\":null,\"name\":\"justify_content\"}]},{\"extends\":null,\"module\":null,\"name\":\"TemplateActions1\",\"overrides\":[],\"properties\":[{\"default\":0,\"kind\":null,\"name\":\"open_modal\"},{\"default\":0,\"kind\":null,\"name\":\"close_modal\"}]},{\"extends\":null,\"module\":null,\"name\":\"MaterialTemplateActions1\",\"overrides\":[],\"properties\":[{\"default\":0,\"kind\":null,\"name\":\"open_modal\"},{\"default\":0,\"kind\":null,\"name\":\"close_modal\"}]}],\"roots\":{\"references\":[{\"attributes\":{\"fill_color\":{\"value\":\"#30a2da\"},\"hatch_color\":{\"value\":\"#30a2da\"},\"line_color\":{\"value\":\"#30a2da\"},\"size\":{\"value\":5.477225575051661},\"x\":{\"field\":\"position\"},\"y\":{\"field\":\"milliseconds\"}},\"id\":\"1040\",\"type\":\"Scatter\"},{\"attributes\":{\"children\":[{\"id\":\"1082\"}],\"css_classes\":[\"panel-widget-box\"],\"margin\":[5,5,5,5],\"name\":\"WidgetBox01580\"},\"id\":\"1081\",\"type\":\"Column\"},{\"attributes\":{\"fill_alpha\":{\"value\":0.2},\"fill_color\":{\"value\":\"#30a2da\"},\"hatch_alpha\":{\"value\":0.2},\"hatch_color\":{\"value\":\"#30a2da\"},\"line_alpha\":{\"value\":0.2},\"line_color\":{\"value\":\"#30a2da\"},\"size\":{\"value\":5.477225575051661},\"x\":{\"field\":\"position\"},\"y\":{\"field\":\"milliseconds\"}},\"id\":\"1042\",\"type\":\"Scatter\"},{\"attributes\":{\"callback\":null,\"renderers\":[{\"id\":\"1043\"}],\"tags\":[\"hv_created\"],\"tooltips\":[[\"position\",\"@{position}\"],[\"milliseconds\",\"@{milliseconds}\"]]},\"id\":\"1006\",\"type\":\"HoverTool\"},{\"attributes\":{},\"id\":\"1050\",\"type\":\"BasicTickFormatter\"},{\"attributes\":{},\"id\":\"1038\",\"type\":\"Selection\"},{\"attributes\":{\"children\":[{\"id\":\"1080\"},{\"id\":\"1081\"},{\"id\":\"1083\"}],\"margin\":[0,0,0,0],\"name\":\"Column01587\"},\"id\":\"1079\",\"type\":\"Column\"},{\"attributes\":{},\"id\":\"1014\",\"type\":\"LinearScale\"},{\"attributes\":{\"tools\":[{\"id\":\"1006\"},{\"id\":\"1024\"},{\"id\":\"1025\"},{\"id\":\"1026\"},{\"id\":\"1027\"},{\"id\":\"1028\"}]},\"id\":\"1030\",\"type\":\"Toolbar\"},{\"attributes\":{},\"id\":\"1024\",\"type\":\"SaveTool\"},{\"attributes\":{},\"id\":\"1051\",\"type\":\"AllLabels\"},{\"attributes\":{},\"id\":\"1025\",\"type\":\"PanTool\"},{\"attributes\":{},\"id\":\"1026\",\"type\":\"WheelZoomTool\"},{\"attributes\":{\"margin\":[5,5,5,5],\"name\":\"HSpacer01588\",\"sizing_mode\":\"stretch_width\"},\"id\":\"1003\",\"type\":\"Spacer\"},{\"attributes\":{\"margin\":[5,5,5,5],\"name\":\"VSpacer01585\",\"sizing_mode\":\"stretch_height\"},\"id\":\"1080\",\"type\":\"Spacer\"},{\"attributes\":{\"below\":[{\"id\":\"1016\"}],\"center\":[{\"id\":\"1019\"},{\"id\":\"1023\"}],\"height\":300,\"left\":[{\"id\":\"1020\"}],\"margin\":[5,5,5,5],\"min_border_bottom\":10,\"min_border_left\":10,\"min_border_right\":10,\"min_border_top\":10,\"renderers\":[{\"id\":\"1043\"}],\"sizing_mode\":\"fixed\",\"title\":{\"id\":\"1008\"},\"toolbar\":{\"id\":\"1030\"},\"width\":700,\"x_range\":{\"id\":\"1004\"},\"x_scale\":{\"id\":\"1012\"},\"y_range\":{\"id\":\"1005\"},\"y_scale\":{\"id\":\"1014\"}},\"id\":\"1007\",\"subtype\":\"Figure\",\"type\":\"Plot\"},{\"attributes\":{\"overlay\":{\"id\":\"1029\"}},\"id\":\"1027\",\"type\":\"BoxZoomTool\"},{\"attributes\":{\"coordinates\":null,\"group\":null,\"text\":\"name: Albert Park Grand Prix Circuit\",\"text_color\":\"black\",\"text_font_size\":\"12pt\"},\"id\":\"1008\",\"type\":\"Title\"},{\"attributes\":{\"end\":55078.35714285714,\"reset_end\":55078.35714285714,\"reset_start\":19291.785714285714,\"start\":19291.785714285714,\"tags\":[[[\"milliseconds\",\"milliseconds\",null]]]},\"id\":\"1005\",\"type\":\"Range1d\"},{\"attributes\":{},\"id\":\"1021\",\"type\":\"BasicTicker\"},{\"attributes\":{},\"id\":\"1047\",\"type\":\"BasicTickFormatter\"},{\"attributes\":{\"client_comm_id\":\"618b3bd53db849099e92a8352496d09c\",\"comm_id\":\"cb36338f1890434e93e0eedaaf7ad686\",\"plot_id\":\"1002\"},\"id\":\"1114\",\"type\":\"panel.models.comm_manager.CommManager\"},{\"attributes\":{\"angle\":{\"value\":0.0},\"fill_alpha\":{\"value\":1.0},\"fill_color\":{\"value\":\"#30a2da\"},\"hatch_alpha\":{\"value\":1.0},\"hatch_color\":{\"value\":\"#30a2da\"},\"hatch_scale\":{\"value\":12.0},\"hatch_weight\":{\"value\":1.0},\"line_alpha\":{\"value\":1.0},\"line_cap\":{\"value\":\"butt\"},\"line_color\":{\"value\":\"#30a2da\"},\"line_dash\":{\"value\":[]},\"line_dash_offset\":{\"value\":0},\"line_join\":{\"value\":\"bevel\"},\"line_width\":{\"value\":1},\"marker\":{\"value\":\"circle\"},\"size\":{\"value\":5.477225575051661},\"x\":{\"field\":\"position\"},\"y\":{\"field\":\"milliseconds\"}},\"id\":\"1045\",\"type\":\"Scatter\"},{\"attributes\":{},\"id\":\"1028\",\"type\":\"ResetTool\"},{\"attributes\":{\"bottom_units\":\"screen\",\"coordinates\":null,\"fill_alpha\":0.5,\"fill_color\":\"lightgrey\",\"group\":null,\"left_units\":\"screen\",\"level\":\"overlay\",\"line_alpha\":1.0,\"line_color\":\"black\",\"line_dash\":[4,4],\"line_width\":2,\"right_units\":\"screen\",\"syncable\":false,\"top_units\":\"screen\"},\"id\":\"1029\",\"type\":\"BoxAnnotation\"},{\"attributes\":{\"axis\":{\"id\":\"1020\"},\"coordinates\":null,\"dimension\":1,\"grid_line_color\":null,\"group\":null,\"ticker\":null},\"id\":\"1023\",\"type\":\"Grid\"},{\"attributes\":{},\"id\":\"1048\",\"type\":\"AllLabels\"},{\"attributes\":{},\"id\":\"1065\",\"type\":\"UnionRenderers\"},{\"attributes\":{\"axis_label\":\"position\",\"coordinates\":null,\"formatter\":{\"id\":\"1047\"},\"group\":null,\"major_label_policy\":{\"id\":\"1048\"},\"ticker\":{\"id\":\"1017\"}},\"id\":\"1016\",\"type\":\"LinearAxis\"},{\"attributes\":{},\"id\":\"1012\",\"type\":\"LinearScale\"},{\"attributes\":{\"margin\":[5,5,5,5],\"name\":\"VSpacer01586\",\"sizing_mode\":\"stretch_height\"},\"id\":\"1083\",\"type\":\"Spacer\"},{\"attributes\":{\"data\":{\"milliseconds\":{\"__ndarray__\":\"AAAAAAS14EAAAAAAINrhQAAAAAB09OFAAAAAAHxC40AAAAAAPCbkQAAAAADcF+NAAAAAAOC940AAAAAAsEfiQAAAAAD0h+hAAAAAANgo5EAAAAAACBvkQAAAAAA4+eRAAAAAADyJ40BJkiRJ0rrlQNu2bdvWXehAkiRJkgRw6UBVVVVVFbLoQAAAAACw+OhAZmZmZkZU4UAAAAAAgMDVQAAAAADg69VAAAAAAKAt5kA=\",\"dtype\":\"float64\",\"order\":\"little\",\"shape\":[22]},\"position\":[1,2,3,4,5,6,7,8,9,10,11,12,13,14,15,16,17,18,19,20,21,22]},\"selected\":{\"id\":\"1038\"},\"selection_policy\":{\"id\":\"1065\"}},\"id\":\"1037\",\"type\":\"ColumnDataSource\"},{\"attributes\":{\"fill_alpha\":{\"value\":0.1},\"fill_color\":{\"value\":\"#30a2da\"},\"hatch_alpha\":{\"value\":0.1},\"hatch_color\":{\"value\":\"#30a2da\"},\"line_alpha\":{\"value\":0.1},\"line_color\":{\"value\":\"#30a2da\"},\"size\":{\"value\":5.477225575051661},\"x\":{\"field\":\"position\"},\"y\":{\"field\":\"milliseconds\"}},\"id\":\"1041\",\"type\":\"Scatter\"},{\"attributes\":{},\"id\":\"1017\",\"type\":\"BasicTicker\"},{\"attributes\":{\"children\":[{\"id\":\"1003\"},{\"id\":\"1007\"},{\"id\":\"1078\"},{\"id\":\"1079\"}],\"margin\":[0,0,0,0],\"name\":\"Row01579\"},\"id\":\"1002\",\"type\":\"Row\"},{\"attributes\":{\"axis\":{\"id\":\"1016\"},\"coordinates\":null,\"grid_line_color\":null,\"group\":null,\"ticker\":null},\"id\":\"1019\",\"type\":\"Grid\"},{\"attributes\":{\"source\":{\"id\":\"1037\"}},\"id\":\"1044\",\"type\":\"CDSView\"},{\"attributes\":{\"coordinates\":null,\"data_source\":{\"id\":\"1037\"},\"glyph\":{\"id\":\"1040\"},\"group\":null,\"hover_glyph\":null,\"muted_glyph\":{\"id\":\"1042\"},\"nonselection_glyph\":{\"id\":\"1041\"},\"selection_glyph\":{\"id\":\"1045\"},\"view\":{\"id\":\"1044\"}},\"id\":\"1043\",\"type\":\"GlyphRenderer\"},{\"attributes\":{\"end\":22.9,\"reset_end\":22.9,\"reset_start\":0.09999999999999998,\"start\":0.09999999999999998,\"tags\":[[[\"position\",\"position\",null]]]},\"id\":\"1004\",\"type\":\"Range1d\"},{\"attributes\":{\"margin\":[20,20,20,20],\"min_width\":250,\"options\":[\"Albert Park Grand Prix Circuit\",\"Autodromo Enzo e Dino Ferrari\",\"Autodromo Internazionale del Mugello\",\"Autodromo Nazionale di Monza\",\"Aut\\u00f3dromo Hermanos Rodr\\u00edguez\",\"Aut\\u00f3dromo Internacional do Algarve\",\"Aut\\u00f3dromo Jos\\u00e9 Carlos Pace\",\"Bahrain International Circuit\",\"Baku City Circuit\",\"Buddh International Circuit\",\"Circuit Gilles Villeneuve\",\"Circuit Park Zandvoort\",\"Circuit Paul Ricard\",\"Circuit de Barcelona-Catalunya\",\"Circuit de Monaco\",\"Circuit de Spa-Francorchamps\",\"Circuit of the Americas\",\"Hockenheimring\",\"Hungaroring\",\"Istanbul Park\",\"Jeddah Corniche Circuit\",\"Korean International Circuit\",\"Losail International Circuit\",\"Marina Bay Street Circuit\",\"N\\u00fcrburgring\",\"Red Bull Ring\",\"Sepang International Circuit\",\"Shanghai International Circuit\",\"Silverstone Circuit\",\"Sochi Autodrom\",\"Suzuka Circuit\",\"Valencia Street Circuit\",\"Yas Marina Circuit\"],\"title\":\"name\",\"value\":\"Albert Park Grand Prix Circuit\",\"width\":250},\"id\":\"1082\",\"type\":\"Select\"},{\"attributes\":{\"margin\":[5,5,5,5],\"name\":\"HSpacer01589\",\"sizing_mode\":\"stretch_width\"},\"id\":\"1078\",\"type\":\"Spacer\"},{\"attributes\":{\"axis_label\":\"milliseconds\",\"coordinates\":null,\"formatter\":{\"id\":\"1050\"},\"group\":null,\"major_label_policy\":{\"id\":\"1051\"},\"ticker\":{\"id\":\"1021\"}},\"id\":\"1020\",\"type\":\"LinearAxis\"}],\"root_ids\":[\"1002\",\"1114\"]},\"title\":\"Bokeh Application\",\"version\":\"2.4.1\"}};\n",
       "    var render_items = [{\"docid\":\"bf7172fd-abea-4a20-85bd-01b498f787ab\",\"root_ids\":[\"1002\"],\"roots\":{\"1002\":\"7316b0d9-d5fc-49e9-93c1-1d86a578a39f\"}}];\n",
       "    root.Bokeh.embed.embed_items_notebook(docs_json, render_items);\n",
       "  }\n",
       "  if (root.Bokeh !== undefined && root.Bokeh.Panel !== undefined) {\n",
       "    embed_document(root);\n",
       "  } else {\n",
       "    var attempts = 0;\n",
       "    var timer = setInterval(function(root) {\n",
       "      if (root.Bokeh !== undefined && root.Bokeh.Panel !== undefined) {\n",
       "        clearInterval(timer);\n",
       "        embed_document(root);\n",
       "      } else if (document.readyState == \"complete\") {\n",
       "        attempts++;\n",
       "        if (attempts > 200) {\n",
       "          clearInterval(timer);\n",
       "          console.log(\"Bokeh: ERROR: Unable to run BokehJS code because BokehJS library is missing\");\n",
       "        }\n",
       "      }\n",
       "    }, 25, root)\n",
       "  }\n",
       "})(window);</script>"
      ],
      "text/plain": [
       ":DynamicMap   [name]\n",
       "   :Scatter   [position]   (milliseconds)"
      ]
     },
     "execution_count": 13,
     "metadata": {
      "application/vnd.holoviews_exec.v0+json": {
       "id": "1002"
      }
     },
     "output_type": "execute_result"
    }
   ],
   "source": [
    "pit_pos_tracks()"
   ]
  },
  {
   "cell_type": "markdown",
   "metadata": {},
   "source": [
    "## Track analysis\n",
    "- Albert Park - minimise pit times, with caution not to let car performance suffer.\n",
    "- Monaco, Marina bay - minimise pit times\n",
    "- Hockenheimring, Sepang itnl - no correlation, prioritise car performance\n",
    "- Huangoring - Interesting shape\n",
    "- Catalunya - consistent, maybe present an opportunity for a team to innovate with pit strategy"
   ]
  }
 ],
 "metadata": {
  "interpreter": {
   "hash": "097c1c50147d69c70dea14784d774fa19f0c571c55d8af2791c45a24b5968fed"
  },
  "kernelspec": {
   "display_name": "Python 3 (ipykernel)",
   "language": "python",
   "name": "python3"
  },
  "language_info": {
   "codemirror_mode": {
    "name": "ipython",
    "version": 3
   },
   "file_extension": ".py",
   "mimetype": "text/x-python",
   "name": "python",
   "nbconvert_exporter": "python",
   "pygments_lexer": "ipython3",
   "version": "3.7.11"
  }
 },
 "nbformat": 4,
 "nbformat_minor": 4
}
