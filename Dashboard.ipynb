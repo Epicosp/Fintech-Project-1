{
 "cells": [
  {
   "cell_type": "code",
   "execution_count": 2,
   "id": "c789a2b7",
   "metadata": {},
   "outputs": [],
   "source": [
    "import numpy as np\n",
    "import panel as pn\n",
    "import plotly.express as px\n",
    "import pandas as pd\n",
    "import hvplot.pandas\n",
    "import matplotlib.pyplot as plt\n",
    "import os\n",
    "import time\n",
    "from pathlib import Path\n",
    "from dotenv import load_dotenv\n",
    "pn.extension()\n"
   ]
  },
  {
   "cell_type": "code",
   "execution_count": 3,
   "id": "1091717a",
   "metadata": {},
   "outputs": [],
   "source": [
    "dashboard = pn.Column('Formula Dank')"
   ]
  },
  {
   "cell_type": "code",
   "execution_count": null,
   "id": "e0577075",
   "metadata": {},
   "outputs": [],
   "source": [
    "value = 10\n",
    "gauge = pn.indicators.Gauge(name='Race time!', value=value, bounds=(0, 100))\n",
    "@pn.depends(gauge.param.value, watch=True)\n",
    "def update_value(value):\n",
    "    gauge.value = value"
   ]
  },
  {
   "cell_type": "code",
   "execution_count": 4,
   "id": "ca4c0772",
   "metadata": {},
   "outputs": [],
   "source": [
    "tab1 = pn.Row(gauge)\n",
    "tab2 = pn.Row()\n",
    "tab3 = pn.Row()\n",
    "tab4 = pn.Row()\n",
    "tab5 = pn.Row()"
   ]
  },
  {
   "cell_type": "code",
   "execution_count": 5,
   "id": "16318b1f",
   "metadata": {},
   "outputs": [],
   "source": [
    "tabs = pn.Tabs(\n",
    "    ('Welcome', tab1),\n",
    "    ('Budget', tab2),\n",
    "    ('Starting position', tab3),\n",
    "    ('Weather', tab4),\n",
    "    ('Pit times', tab5)\n",
    ")"
   ]
  },
  {
   "cell_type": "code",
   "execution_count": 6,
   "id": "e26ad8ea",
   "metadata": {},
   "outputs": [],
   "source": [
    "dashboard.append(tabs)"
   ]
  },
  {
   "cell_type": "code",
   "execution_count": 7,
   "id": "942aad25",
   "metadata": {},
   "outputs": [
    {
     "data": {},
     "metadata": {},
     "output_type": "display_data"
    },
    {
     "data": {
      "application/vnd.holoviews_exec.v0+json": "",
      "text/html": [
       "<div id='1002'>\n",
       "\n",
       "\n",
       "\n",
       "\n",
       "\n",
       "  <div class=\"bk-root\" id=\"0579fae4-8c6c-471d-8faa-956f89eeb55f\" data-root-id=\"1002\"></div>\n",
       "</div>\n",
       "<script type=\"application/javascript\">(function(root) {\n",
       "  function embed_document(root) {\n",
       "    var docs_json = {\"9f758d55-7788-4e0e-806e-f42dd96f47e9\":{\"defs\":[{\"extends\":null,\"module\":null,\"name\":\"ReactiveHTML1\",\"overrides\":[],\"properties\":[]},{\"extends\":null,\"module\":null,\"name\":\"FlexBox1\",\"overrides\":[],\"properties\":[{\"default\":\"flex-start\",\"kind\":null,\"name\":\"align_content\"},{\"default\":\"flex-start\",\"kind\":null,\"name\":\"align_items\"},{\"default\":\"row\",\"kind\":null,\"name\":\"flex_direction\"},{\"default\":\"wrap\",\"kind\":null,\"name\":\"flex_wrap\"},{\"default\":\"flex-start\",\"kind\":null,\"name\":\"justify_content\"}]},{\"extends\":null,\"module\":null,\"name\":\"TemplateActions1\",\"overrides\":[],\"properties\":[{\"default\":0,\"kind\":null,\"name\":\"open_modal\"},{\"default\":0,\"kind\":null,\"name\":\"close_modal\"}]},{\"extends\":null,\"module\":null,\"name\":\"MaterialTemplateActions1\",\"overrides\":[],\"properties\":[{\"default\":0,\"kind\":null,\"name\":\"open_modal\"},{\"default\":0,\"kind\":null,\"name\":\"close_modal\"}]}],\"roots\":{\"references\":[{\"attributes\":{\"margin\":[0,0,0,0],\"name\":\"Row01563\"},\"id\":\"1012\",\"type\":\"Row\"},{\"attributes\":{\"margin\":[0,0,0,0],\"tabs\":[{\"id\":\"1007\"},{\"id\":\"1009\"},{\"id\":\"1011\"},{\"id\":\"1013\"},{\"id\":\"1015\"}]},\"id\":\"1004\",\"type\":\"Tabs\"},{\"attributes\":{\"child\":{\"id\":\"1012\"},\"name\":\"Row01563\",\"title\":\"Weather\"},\"id\":\"1013\",\"type\":\"Panel\"},{\"attributes\":{\"margin\":[0,0,0,0],\"name\":\"Row01561\"},\"id\":\"1008\",\"type\":\"Row\"},{\"attributes\":{\"data\":{\"series\":[{\"axisLabel\":{\"show\":true},\"axisLine\":{\"lineStyle\":{\"width\":10}},\"axisTick\":{\"show\":true},\"data\":[{\"name\":\"Race time!\",\"value\":10}],\"detail\":{\"formatter\":\"{value}%\"},\"endAngle\":-45,\"max\":100,\"min\":0,\"name\":\"Gauge\",\"radius\":\"100%\",\"splitLine\":{\"show\":true},\"splitNumber\":10,\"startAngle\":225,\"title\":{\"fontSize\":18,\"fontWeight\":\"bold\"},\"type\":\"gauge\"}],\"tooltip\":{\"formatter\":\"{b} : {c}%\"}},\"height\":300,\"margin\":[5,10,5,10],\"name\":\"Race time!\",\"sizing_mode\":\"fixed\",\"width\":300},\"id\":\"1006\",\"type\":\"panel.models.echarts.ECharts\"},{\"attributes\":{\"children\":[{\"id\":\"1006\"}],\"margin\":[0,0,0,0],\"name\":\"Row01560\"},\"id\":\"1005\",\"type\":\"Row\"},{\"attributes\":{\"margin\":[0,0,0,0],\"name\":\"Row01562\"},\"id\":\"1010\",\"type\":\"Row\"},{\"attributes\":{\"margin\":[0,0,0,0],\"name\":\"Row01564\"},\"id\":\"1014\",\"type\":\"Row\"},{\"attributes\":{\"children\":[{\"id\":\"1003\"},{\"id\":\"1004\"}],\"margin\":[0,0,0,0],\"name\":\"Column01558\"},\"id\":\"1002\",\"type\":\"Column\"},{\"attributes\":{\"css_classes\":[\"markdown\"],\"margin\":[5,5,5,5],\"name\":\"Markdown01556\",\"text\":\"&lt;p&gt;Formula Dank&lt;/p&gt;\"},\"id\":\"1003\",\"type\":\"panel.models.markup.HTML\"},{\"attributes\":{\"child\":{\"id\":\"1010\"},\"name\":\"Row01562\",\"title\":\"Starting position\"},\"id\":\"1011\",\"type\":\"Panel\"},{\"attributes\":{\"child\":{\"id\":\"1014\"},\"name\":\"Row01564\",\"title\":\"Pit times\"},\"id\":\"1015\",\"type\":\"Panel\"},{\"attributes\":{\"child\":{\"id\":\"1005\"},\"name\":\"Row01560\",\"title\":\"Welcome\"},\"id\":\"1007\",\"type\":\"Panel\"},{\"attributes\":{\"client_comm_id\":\"2f7e64bf6b564cc1b8c7fada518c27e0\",\"comm_id\":\"8d62a1703ee24ca7884dd2522a0c6e2e\",\"plot_id\":\"1002\"},\"id\":\"1016\",\"type\":\"panel.models.comm_manager.CommManager\"},{\"attributes\":{\"child\":{\"id\":\"1008\"},\"name\":\"Row01561\",\"title\":\"Budget\"},\"id\":\"1009\",\"type\":\"Panel\"},{\"attributes\":{\"reload\":false},\"id\":\"1017\",\"type\":\"panel.models.location.Location\"}],\"root_ids\":[\"1002\",\"1016\",\"1017\"]},\"title\":\"Bokeh Application\",\"version\":\"2.4.1\"}};\n",
       "    var render_items = [{\"docid\":\"9f758d55-7788-4e0e-806e-f42dd96f47e9\",\"root_ids\":[\"1002\"],\"roots\":{\"1002\":\"0579fae4-8c6c-471d-8faa-956f89eeb55f\"}}];\n",
       "    root.Bokeh.embed.embed_items_notebook(docs_json, render_items);\n",
       "  }\n",
       "  if (root.Bokeh !== undefined && root.Bokeh.Panel !== undefined) {\n",
       "    embed_document(root);\n",
       "  } else {\n",
       "    var attempts = 0;\n",
       "    var timer = setInterval(function(root) {\n",
       "      if (root.Bokeh !== undefined && root.Bokeh.Panel !== undefined) {\n",
       "        clearInterval(timer);\n",
       "        embed_document(root);\n",
       "      } else if (document.readyState == \"complete\") {\n",
       "        attempts++;\n",
       "        if (attempts > 200) {\n",
       "          clearInterval(timer);\n",
       "          console.log(\"Bokeh: ERROR: Unable to run BokehJS code because BokehJS library is missing\");\n",
       "        }\n",
       "      }\n",
       "    }, 25, root)\n",
       "  }\n",
       "})(window);</script>"
      ],
      "text/plain": [
       "Column\n",
       "    [0] Markdown(str)\n",
       "    [1] Tabs\n",
       "        [0] Row\n",
       "            [0] Gauge(name='Race time!', value=10)\n",
       "        [1] Row()\n",
       "        [2] Row()\n",
       "        [3] Row()\n",
       "        [4] Row()"
      ]
     },
     "execution_count": 7,
     "metadata": {
      "application/vnd.holoviews_exec.v0+json": {
       "id": "1002"
      }
     },
     "output_type": "execute_result"
    }
   ],
   "source": [
    "dashboard.servable()"
   ]
  },
  {
   "cell_type": "code",
   "execution_count": null,
   "id": "46e7ff09",
   "metadata": {},
   "outputs": [],
   "source": [
    "while True:\n",
    "    number = np.random.randint(20,25)\n",
    "    update_value(number)\n",
    "    time.sleep(0.1)"
   ]
  },
  {
   "cell_type": "code",
   "execution_count": null,
   "id": "26dd65c1",
   "metadata": {},
   "outputs": [],
   "source": []
  }
 ],
 "metadata": {
  "kernelspec": {
   "display_name": "Python [conda env:pyvizenv] *",
   "language": "python",
   "name": "conda-env-pyvizenv-py"
  },
  "language_info": {
   "codemirror_mode": {
    "name": "ipython",
    "version": 3
   },
   "file_extension": ".py",
   "mimetype": "text/x-python",
   "name": "python",
   "nbconvert_exporter": "python",
   "pygments_lexer": "ipython3",
   "version": "3.7.11"
  }
 },
 "nbformat": 4,
 "nbformat_minor": 5
}
